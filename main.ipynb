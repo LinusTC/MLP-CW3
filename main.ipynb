{
 "cells": [
  {
   "cell_type": "markdown",
   "metadata": {},
   "source": [
    "## Using in Google Colabs"
   ]
  },
  {
   "cell_type": "code",
   "execution_count": null,
   "metadata": {},
   "outputs": [],
   "source": [
    "'''! pip install kaggle\n",
    "from google.colab import drive\n",
    "drive.mount('/content/drive')\n",
    "! mkdir ~/.kaggle\n",
    "!cp /content/drive/MyDrive/Kaggle\\ API/kaggle.json ~/.kaggle/kaggle.json\n",
    "! chmod 600 ~/.kaggle/kaggle.json'''"
   ]
  },
  {
   "cell_type": "markdown",
   "metadata": {},
   "source": [
    "## Using Kaggle Imports "
   ]
  },
  {
   "cell_type": "code",
   "execution_count": null,
   "metadata": {},
   "outputs": [],
   "source": [
    "'''import kaggle\n",
    "import kagglehub\n",
    "\n",
    "# Download latest version\n",
    "path = \"/kaggle/input/cotton-leaf-disease-dataset/cotton\"\n",
    "\n",
    "print(\"Path to dataset files:\", path)'''"
   ]
  },
  {
   "cell_type": "markdown",
   "metadata": {
    "id": "qcDJGAyLnaOj"
   },
   "source": [
    "# Cotton Leaf Disease Classification"
   ]
  },
  {
   "cell_type": "markdown",
   "metadata": {
    "id": "Ku86jjLjnaOk"
   },
   "source": [
    "### 1.0 Imports"
   ]
  },
  {
   "cell_type": "code",
   "execution_count": null,
   "metadata": {
    "execution": {
     "iopub.execute_input": "2025-03-05T12:18:27.219379Z",
     "iopub.status.busy": "2025-03-05T12:18:27.219131Z",
     "iopub.status.idle": "2025-03-05T12:18:33.033998Z",
     "shell.execute_reply": "2025-03-05T12:18:33.033018Z",
     "shell.execute_reply.started": "2025-03-05T12:18:27.219360Z"
    },
    "id": "kyP8lBlBnaOk",
    "trusted": true
   },
   "outputs": [],
   "source": [
    "import os\n",
    "from tqdm import tqdm\n",
    "import matplotlib.pyplot as plt\n",
    "import torch\n",
    "from torchvision import datasets, transforms\n",
    "from torch.utils.data import DataLoader, random_split"
   ]
  },
  {
   "cell_type": "code",
   "execution_count": null,
   "metadata": {
    "colab": {
     "base_uri": "https://localhost:8080/",
     "height": 35
    },
    "execution": {
     "iopub.execute_input": "2025-03-05T12:18:33.042940Z",
     "iopub.status.busy": "2025-03-05T12:18:33.042657Z",
     "iopub.status.idle": "2025-03-05T12:18:33.059270Z",
     "shell.execute_reply": "2025-03-05T12:18:33.058402Z",
     "shell.execute_reply.started": "2025-03-05T12:18:33.042918Z"
    },
    "id": "VN1iWXia1FbL",
    "outputId": "b7c52696-a268-4f2a-df2a-1799d01c3d56",
    "trusted": true
   },
   "outputs": [],
   "source": [
    "path = \"/kaggle/input/cotton-leaf-disease-dataset/cotton\""
   ]
  },
  {
   "cell_type": "markdown",
   "metadata": {
    "id": "64AG7fLXnaOl"
   },
   "source": [
    "### 2. Load Data"
   ]
  },
  {
   "cell_type": "code",
   "execution_count": null,
   "metadata": {
    "colab": {
     "base_uri": "https://localhost:8080/"
    },
    "execution": {
     "iopub.execute_input": "2025-03-05T12:18:33.063130Z",
     "iopub.status.busy": "2025-03-05T12:18:33.062813Z",
     "iopub.status.idle": "2025-03-05T12:18:39.652363Z",
     "shell.execute_reply": "2025-03-05T12:18:39.651314Z",
     "shell.execute_reply.started": "2025-03-05T12:18:33.063097Z"
    },
    "id": "yKr8ozB9naOl",
    "outputId": "64f6bab9-fb0e-4f14-ec54-a28cd48b98f5",
    "trusted": true
   },
   "outputs": [],
   "source": [
    "transform = transforms.Compose([\n",
    "    transforms.Resize(384),\n",
    "    transforms.CenterCrop(350),\n",
    "    transforms.ToTensor()\n",
    "])\n",
    "\n",
    "dataset = datasets.ImageFolder(path, transform=transform)\n",
    "\n",
    "train_size = len(dataset) // 2\n",
    "test_size = len(dataset) - train_size\n",
    "train_dataset, test_dataset = random_split(dataset, [train_size, test_size])\n",
    "\n",
    "train_loader = DataLoader(train_dataset, batch_size=32, shuffle=True)\n",
    "test_loader = DataLoader(test_dataset, batch_size=32, shuffle=False)  # No shuffle for testing\n",
    "\n",
    "labels_map = {\n",
    "    0: \"bacterial_blight\",\n",
    "    1: \"curl_virus\",\n",
    "    2: \"fussarium_wilt\",\n",
    "    3: \"healthy\",\n",
    "}\n",
    "\n",
    "image, label = train_dataset[0]\n",
    "image.size()"
   ]
  },
  {
   "cell_type": "code",
   "execution_count": null,
   "metadata": {
    "colab": {
     "base_uri": "https://localhost:8080/",
     "height": 1000
    },
    "execution": {
     "iopub.execute_input": "2025-03-04T23:02:11.952976Z",
     "iopub.status.busy": "2025-03-04T23:02:11.952677Z",
     "iopub.status.idle": "2025-03-04T23:02:18.551562Z",
     "shell.execute_reply": "2025-03-04T23:02:18.550512Z",
     "shell.execute_reply.started": "2025-03-04T23:02:11.952955Z"
    },
    "id": "o6q5JfhinaOl",
    "outputId": "d9b1e9d4-712a-4d47-f2bd-4b679231648d",
    "trusted": true
   },
   "outputs": [],
   "source": [
    "data_iter = iter(train_loader)\n",
    "images, labels = next(data_iter)\n",
    "\n",
    "# Display Sample Images\n",
    "figure = plt.figure(figsize=(16, 16))\n",
    "cols, rows = 10, 10\n",
    "\n",
    "for i in range(1, cols * rows + 1):\n",
    "    sample_idx = torch.randint(len(images), size=(1,)).item()\n",
    "    img, label = images[sample_idx], labels[sample_idx].item()\n",
    "\n",
    "    figure.add_subplot(rows, cols, i)\n",
    "    plt.title(labels_map[label])\n",
    "    plt.axis(\"off\")\n",
    "\n",
    "    img = img.permute(1, 2, 0)  # Convert (C, H, W) to (H, W, C) for display\n",
    "    plt.imshow(img)\n",
    "\n",
    "plt.show()\n"
   ]
  },
  {
   "cell_type": "markdown",
   "metadata": {
    "id": "wNqJqz2QnaOm"
   },
   "source": [
    "### 3. Object Detection Leaf/Plant"
   ]
  },
  {
   "cell_type": "code",
   "execution_count": null,
   "metadata": {
    "execution": {
     "execution_failed": "2025-03-04T22:55:00.691Z"
    },
    "id": "4y4JCm7UnaOm",
    "trusted": true
   },
   "outputs": [],
   "source": [
    "# Nats Code\n",
    "\n"
   ]
  },
  {
   "cell_type": "markdown",
   "metadata": {
    "id": "JRp_GLavnaOm"
   },
   "source": [
    "## 4. Image Classification"
   ]
  },
  {
   "cell_type": "markdown",
   "metadata": {},
   "source": [
    "### 4.1 Base Model"
   ]
  },
  {
   "cell_type": "code",
   "execution_count": null,
   "metadata": {
    "execution": {
     "execution_failed": "2025-03-04T22:55:00.691Z"
    },
    "id": "fi9-EIM9naOm",
    "trusted": true
   },
   "outputs": [],
   "source": [
    "import torch.nn as nn\n",
    "import torch.nn.functional as F\n",
    "\n",
    "class NeuralNetwork (nn.Module):\n",
    "    def __init__(self):\n",
    "        super().__init__()\n",
    "\n",
    "        self.conv1 = nn.Conv2d(3, 32, 7) #(32, 344, 344)\n",
    "        self.pool = nn.MaxPool2d (2, 2) #(32, 172, 172)\n",
    "        self.conv2 = nn.Conv2d(32, 64, 7) #(64, 166, 166) #(64, 83, 83)\n",
    "        self.conv3 = nn.Conv2d (64, 128, 7) # Output: (256, 76, 76) #(128, 38, 38)\n",
    "        self.conv4 = nn.Conv2d(128, 256, 7) #(256, 32, 32) #(256, 16, 16)\n",
    "\n",
    "        self.fc1 = nn.Linear(256 * 16 * 16, 8192)\n",
    "        self.fc2 = nn.Linear(8192, 1024)\n",
    "        self.fc3 = nn.Linear(1024, 128)\n",
    "        self.fc4 = nn.Linear(128, 4)\n",
    "\n",
    "    def forward(self, x):\n",
    "        x = self.pool(F.relu(self.conv1(x)))\n",
    "        x = self.pool(F.relu(self.conv2(x)))\n",
    "        x = self.pool(F.relu(self.conv3(x)))\n",
    "        x = self.pool(F.relu(self.conv4(x)))\n",
    "        x = torch.flatten(x, 1)\n",
    "        x = F.relu(self.fc1(x))\n",
    "        x = F.relu(self.fc2(x))\n",
    "        x = F.relu(self.fc3(x))\n",
    "        x = self.fc4(x)\n",
    "\n",
    "        return x"
   ]
  },
  {
   "cell_type": "code",
   "execution_count": null,
   "metadata": {
    "execution": {
     "execution_failed": "2025-03-04T22:55:00.691Z"
    },
    "id": "MJDwfn8fnaOm",
    "trusted": true
   },
   "outputs": [],
   "source": [
    "training_net = NeuralNetwork()\n",
    "\n",
    "loss_function = nn.CrossEntropyLoss()\n",
    "\n",
    "optimizer = torch.optim.SGD(training_net.parameters(), lr=0.001)"
   ]
  },
  {
   "cell_type": "code",
   "execution_count": null,
   "metadata": {
    "colab": {
     "base_uri": "https://localhost:8080/"
    },
    "execution": {
     "execution_failed": "2025-03-04T22:55:00.691Z"
    },
    "id": "rhndP4tTnaOm",
    "outputId": "385dd922-7f0a-4d6a-cf82-6e01f98b118b",
    "trusted": true
   },
   "outputs": [],
   "source": [
    "import torch\n",
    "from tqdm import tqdm\n",
    "\n",
    "num_epochs = 50\n",
    "\n",
    "# Device configuration\n",
    "device = torch.device('cuda' if torch.cuda.is_available() else 'cpu')\n",
    "training_net.to(device)\n",
    "\n",
    "for epoch in range(num_epochs):\n",
    "    loop = tqdm(enumerate(train_loader), total=len(train_loader), leave=False)\n",
    "\n",
    "    running_loss = 0.0\n",
    "    for i, data in loop:\n",
    "        inputs, labels = data\n",
    "        inputs, labels = inputs.to(device), labels.to(device)\n",
    "\n",
    "        optimizer.zero_grad()\n",
    "\n",
    "        outputs = training_net(inputs)\n",
    "        loss = loss_function(outputs, labels)\n",
    "        loss.backward()\n",
    "        optimizer.step()\n",
    "\n",
    "        running_loss += loss.item()\n",
    "\n",
    "        loop.set_description(f\"Epoch [{epoch+1}/{num_epochs}]\")\n",
    "        loop.set_postfix(loss=loss.item())\n",
    "\n",
    "    print(f\"Epoch [{epoch+1}/{num_epochs}] Loss: {running_loss/len(train_loader):.6f}\")\n",
    "\n",
    "loop.close()\n"
   ]
  },
  {
   "cell_type": "code",
   "execution_count": null,
   "metadata": {
    "execution": {
     "execution_failed": "2025-03-04T22:55:00.691Z"
    },
    "id": "1slL9YNQuuh0",
    "trusted": true
   },
   "outputs": [],
   "source": [
    "torch.save(training_net.state_dict(), 'trained_net.pth')"
   ]
  },
  {
   "cell_type": "code",
   "execution_count": null,
   "metadata": {
    "id": "GA1Bv0mh1FbN",
    "trusted": true
   },
   "outputs": [],
   "source": [
    "\n"
   ]
  },
  {
   "cell_type": "code",
   "execution_count": null,
   "metadata": {
    "colab": {
     "base_uri": "https://localhost:8080/"
    },
    "execution": {
     "execution_failed": "2025-03-04T22:55:00.691Z"
    },
    "id": "QjWS-t-J1FbN",
    "outputId": "dcaea471-5274-46ea-f108-c67d0bf81a78",
    "trusted": true
   },
   "outputs": [],
   "source": [
    "test_net = NeuralNetwork()\n",
    "\n",
    "test_net.load_state_dict(torch.load('trained_net.pth'))\n",
    "\n",
    "device = torch.device(\"cuda\" if torch.cuda.is_available() else \"cpu\")\n",
    "test_net.to(device)\n",
    "\n",
    "test_net.eval()\n",
    "\n",
    "correct = 0\n",
    "total = 0\n",
    "\n",
    "with torch.no_grad():\n",
    "    for images, labels in tqdm(test_loader, desc=\"Testing\"):\n",
    "        images, labels = images.to(device), labels.to(device)\n",
    "\n",
    "        outputs = test_net(images)\n",
    "        _, predicted = torch.max(outputs.data, 1)\n",
    "        total += labels.size(0)\n",
    "\n",
    "        correct += (predicted == labels).sum().item()\n",
    "\n",
    "accuracy = 100 * correct / total\n",
    "print(f'Accuracy of the network on the test images: {accuracy:.2f}%')\n"
   ]
  }
 ],
 "metadata": {
  "accelerator": "GPU",
  "colab": {
   "gpuType": "T4",
   "include_colab_link": true,
   "provenance": []
  },
  "kaggle": {
   "accelerator": "gpu",
   "dataSources": [
    {
     "datasetId": 1263004,
     "sourceId": 2105207,
     "sourceType": "datasetVersion"
    }
   ],
   "dockerImageVersionId": 30919,
   "isGpuEnabled": true,
   "isInternetEnabled": true,
   "language": "python",
   "sourceType": "notebook"
  },
  "kernelspec": {
   "display_name": "mlp",
   "language": "python",
   "name": "python3"
  },
  "language_info": {
   "codemirror_mode": {
    "name": "ipython",
    "version": 3
   },
   "file_extension": ".py",
   "mimetype": "text/x-python",
   "name": "python",
   "nbconvert_exporter": "python",
   "pygments_lexer": "ipython3",
   "version": "3.12.5"
  }
 },
 "nbformat": 4,
 "nbformat_minor": 4
}
