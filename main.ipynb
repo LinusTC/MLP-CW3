{
 "cells": [
  {
   "cell_type": "markdown",
   "metadata": {
    "colab_type": "text",
    "id": "view-in-github"
   },
   "source": [
    "<a href=\"https://colab.research.google.com/github/LinusTC/MLP-CW3/blob/main/main.ipynb\" target=\"_parent\"><img src=\"https://colab.research.google.com/assets/colab-badge.svg\" alt=\"Open In Colab\"/></a>"
   ]
  },
  {
   "cell_type": "markdown",
   "metadata": {
    "id": "qcDJGAyLnaOj"
   },
   "source": [
    "# Cotton Leaf Disease Classification"
   ]
  },
  {
   "cell_type": "code",
   "execution_count": null,
   "metadata": {
    "colab": {
     "base_uri": "https://localhost:8080/"
    },
    "execution": {
     "iopub.execute_input": "2025-03-05T12:55:03.903353Z",
     "iopub.status.busy": "2025-03-05T12:55:03.902890Z",
     "iopub.status.idle": "2025-03-05T12:55:03.909063Z",
     "shell.execute_reply": "2025-03-05T12:55:03.908044Z",
     "shell.execute_reply.started": "2025-03-05T12:55:03.903312Z"
    },
    "id": "RrhTh-bPnewR",
    "outputId": "ed66ed3b-fb33-41ad-ae48-b00de20addd5",
    "trusted": true
   },
   "outputs": [],
   "source": [
    "'''! pip install kaggle\n",
    "from google.colab import drive\n",
    "drive.mount('/content/drive')\n",
    "! mkdir ~/.kaggle\n",
    "!cp /content/drive/MyDrive/Kaggle\\ API/kaggle.json ~/.kaggle/kaggle.json\n",
    "! chmod 600 ~/.kaggle/kaggle.json'''"
   ]
  },
  {
   "cell_type": "markdown",
   "metadata": {
    "id": "Ku86jjLjnaOk"
   },
   "source": [
    "## 1.0 Imports"
   ]
  },
  {
   "cell_type": "code",
   "execution_count": null,
   "metadata": {
    "execution": {
     "iopub.execute_input": "2025-03-05T12:55:03.910377Z",
     "iopub.status.busy": "2025-03-05T12:55:03.910166Z",
     "iopub.status.idle": "2025-03-05T12:55:03.924852Z",
     "shell.execute_reply": "2025-03-05T12:55:03.924109Z",
     "shell.execute_reply.started": "2025-03-05T12:55:03.910358Z"
    },
    "id": "kyP8lBlBnaOk",
    "trusted": true
   },
   "outputs": [],
   "source": [
    "import os\n",
    "from tqdm import tqdm\n",
    "import matplotlib.pyplot as plt\n",
    "import torch\n",
    "import plotly.graph_objects as go\n",
    "from torchvision import datasets, transforms\n",
    "from torch.utils.data import DataLoader, random_split"
   ]
  },
  {
   "cell_type": "markdown",
   "metadata": {
    "id": "hoMktJBdnaOk"
   },
   "source": [
    "### 1.1 Kaggle Imports"
   ]
  },
  {
   "cell_type": "code",
   "execution_count": null,
   "metadata": {
    "colab": {
     "base_uri": "https://localhost:8080/"
    },
    "execution": {
     "iopub.execute_input": "2025-03-05T12:55:03.926547Z",
     "iopub.status.busy": "2025-03-05T12:55:03.926360Z",
     "iopub.status.idle": "2025-03-05T12:55:03.942522Z",
     "shell.execute_reply": "2025-03-05T12:55:03.941942Z",
     "shell.execute_reply.started": "2025-03-05T12:55:03.926530Z"
    },
    "id": "SejGRdKFnaOl",
    "outputId": "178f827b-8e05-42df-a601-a2079b2ffc35",
    "trusted": true
   },
   "outputs": [],
   "source": [
    "'''import kaggle\n",
    "import kagglehub\n",
    "\n",
    "# Download latest version\n",
    "path = \"/kaggle/input/cotton-leaf-disease-dataset/cotton\"\n",
    "\n",
    "print(\"Path to dataset files:\", path)'''"
   ]
  },
  {
   "cell_type": "code",
   "execution_count": null,
   "metadata": {
    "colab": {
     "base_uri": "https://localhost:8080/",
     "height": 35
    },
    "execution": {
     "iopub.execute_input": "2025-03-05T12:55:03.943887Z",
     "iopub.status.busy": "2025-03-05T12:55:03.943644Z",
     "iopub.status.idle": "2025-03-05T12:55:03.958204Z",
     "shell.execute_reply": "2025-03-05T12:55:03.957385Z",
     "shell.execute_reply.started": "2025-03-05T12:55:03.943868Z"
    },
    "id": "VN1iWXia1FbL",
    "outputId": "b7c52696-a268-4f2a-df2a-1799d01c3d56",
    "trusted": true
   },
   "outputs": [],
   "source": [
    "'''import os\n",
    "print(os.listdir(\"Cotton Plant Images\"))'''\n",
    "path = \"/kaggle/input/cotton-leaf-disease-dataset/cotton\""
   ]
  },
  {
   "cell_type": "markdown",
   "metadata": {
    "id": "64AG7fLXnaOl"
   },
   "source": [
    "## 2. Load Data"
   ]
  },
  {
   "cell_type": "code",
   "execution_count": null,
   "metadata": {
    "colab": {
     "base_uri": "https://localhost:8080/"
    },
    "execution": {
     "iopub.execute_input": "2025-03-05T12:55:03.959455Z",
     "iopub.status.busy": "2025-03-05T12:55:03.959178Z",
     "iopub.status.idle": "2025-03-05T12:55:07.082823Z",
     "shell.execute_reply": "2025-03-05T12:55:07.082081Z",
     "shell.execute_reply.started": "2025-03-05T12:55:03.959427Z"
    },
    "id": "yKr8ozB9naOl",
    "outputId": "64f6bab9-fb0e-4f14-ec54-a28cd48b98f5",
    "trusted": true
   },
   "outputs": [],
   "source": [
    "transform = transforms.Compose([\n",
    "    transforms.Resize(384),\n",
    "    transforms.CenterCrop(350),\n",
    "    transforms.ToTensor()\n",
    "])\n",
    "\n",
    "dataset = datasets.ImageFolder(path, transform=transform)\n",
    "\n",
    "train_size = len(dataset) // 2\n",
    "test_size = len(dataset) - train_size\n",
    "train_dataset, test_dataset = random_split(dataset, [train_size, test_size])\n",
    "\n",
    "train_loader = DataLoader(train_dataset, batch_size=32, shuffle=True)\n",
    "test_loader = DataLoader(test_dataset, batch_size=32, shuffle=False)  # No shuffle for testing\n",
    "\n",
    "labels_map = {\n",
    "    0: \"bacterial_blight\",\n",
    "    1: \"curl_virus\",\n",
    "    2: \"fussarium_wilt\",\n",
    "    3: \"healthy\",\n",
    "}\n",
    "\n",
    "image, label = train_dataset[0]\n",
    "image.size()"
   ]
  },
  {
   "cell_type": "code",
   "execution_count": null,
   "metadata": {
    "colab": {
     "base_uri": "https://localhost:8080/",
     "height": 1000
    },
    "execution": {
     "iopub.execute_input": "2025-03-05T12:55:07.084007Z",
     "iopub.status.busy": "2025-03-05T12:55:07.083663Z",
     "iopub.status.idle": "2025-03-05T12:55:13.859487Z",
     "shell.execute_reply": "2025-03-05T12:55:13.858561Z",
     "shell.execute_reply.started": "2025-03-05T12:55:07.083975Z"
    },
    "id": "o6q5JfhinaOl",
    "outputId": "d9b1e9d4-712a-4d47-f2bd-4b679231648d",
    "trusted": true
   },
   "outputs": [],
   "source": [
    "data_iter = iter(train_loader)\n",
    "images, labels = next(data_iter)\n",
    "\n",
    "# Display Sample Images\n",
    "figure = plt.figure(figsize=(16, 16))\n",
    "cols, rows = 10, 10\n",
    "\n",
    "for i in range(1, cols * rows + 1):\n",
    "    sample_idx = torch.randint(len(images), size=(1,)).item()\n",
    "    img, label = images[sample_idx], labels[sample_idx].item()\n",
    "\n",
    "    figure.add_subplot(rows, cols, i)\n",
    "    plt.title(labels_map[label])\n",
    "    plt.axis(\"off\")\n",
    "\n",
    "    img = img.permute(1, 2, 0)  # Convert (C, H, W) to (H, W, C) for display\n",
    "    plt.imshow(img)\n",
    "\n",
    "plt.show()\n"
   ]
  },
  {
   "cell_type": "markdown",
   "metadata": {
    "id": "wNqJqz2QnaOm"
   },
   "source": [
    "## 3. Filter"
   ]
  },
  {
   "cell_type": "code",
   "execution_count": null,
   "metadata": {
    "execution": {
     "iopub.execute_input": "2025-03-05T12:55:13.860559Z",
     "iopub.status.busy": "2025-03-05T12:55:13.860317Z",
     "iopub.status.idle": "2025-03-05T12:55:13.863929Z",
     "shell.execute_reply": "2025-03-05T12:55:13.863089Z",
     "shell.execute_reply.started": "2025-03-05T12:55:13.860537Z"
    },
    "id": "4y4JCm7UnaOm",
    "trusted": true
   },
   "outputs": [],
   "source": []
  },
  {
   "cell_type": "markdown",
   "metadata": {
    "id": "JRp_GLavnaOm"
   },
   "source": [
    "## 4. Image Classification"
   ]
  },
  {
   "cell_type": "markdown",
   "metadata": {},
   "source": [
    "### 4.1 Initial Model"
   ]
  },
  {
   "cell_type": "code",
   "execution_count": null,
   "metadata": {
    "execution": {
     "iopub.execute_input": "2025-03-05T12:55:13.865114Z",
     "iopub.status.busy": "2025-03-05T12:55:13.864808Z",
     "iopub.status.idle": "2025-03-05T12:55:13.880306Z",
     "shell.execute_reply": "2025-03-05T12:55:13.879461Z",
     "shell.execute_reply.started": "2025-03-05T12:55:13.865092Z"
    },
    "id": "fi9-EIM9naOm",
    "trusted": true
   },
   "outputs": [],
   "source": [
    "import torch.nn as nn\n",
    "import torch.nn.functional as F\n",
    "\n",
    "class NeuralNetwork (nn.Module):\n",
    "    def __init__(self):\n",
    "        super().__init__()\n",
    "\n",
    "        self.conv1 = nn.Conv2d(3, 32, 7) #(32, 344, 344)\n",
    "        self.pool = nn.MaxPool2d (2, 2) #(32, 172, 172)\n",
    "        self.conv2 = nn.Conv2d(32, 64, 7) #(64, 166, 166) #(64, 83, 83)\n",
    "        self.conv3 = nn.Conv2d (64, 128, 7) # Output: (256, 76, 76) #(128, 38, 38)\n",
    "        self.conv4 = nn.Conv2d(128, 256, 7) #(256, 32, 32) #(256, 16, 16)\n",
    "\n",
    "        self.fc1 = nn.Linear(256 * 16 * 16, 8192)\n",
    "        self.fc2 = nn.Linear(8192, 1024)\n",
    "        self.fc3 = nn.Linear(1024, 128)\n",
    "        self.fc4 = nn.Linear(128, 4)\n",
    "\n",
    "    def forward(self, x):\n",
    "        x = self.pool(F.relu(self.conv1(x)))\n",
    "        x = self.pool(F.relu(self.conv2(x)))\n",
    "        x = self.pool(F.relu(self.conv3(x)))\n",
    "        x = self.pool(F.relu(self.conv4(x)))\n",
    "        x = torch.flatten(x, 1)\n",
    "        x = F.relu(self.fc1(x))\n",
    "        x = F.relu(self.fc2(x))\n",
    "        x = F.relu(self.fc3(x))\n",
    "        x = self.fc4(x)\n",
    "\n",
    "        return x"
   ]
  },
  {
   "cell_type": "code",
   "execution_count": null,
   "metadata": {
    "execution": {
     "iopub.execute_input": "2025-03-05T12:55:13.882157Z",
     "iopub.status.busy": "2025-03-05T12:55:13.881937Z",
     "iopub.status.idle": "2025-03-05T12:55:18.344408Z",
     "shell.execute_reply": "2025-03-05T12:55:18.343769Z",
     "shell.execute_reply.started": "2025-03-05T12:55:13.882138Z"
    },
    "id": "MJDwfn8fnaOm",
    "trusted": true
   },
   "outputs": [],
   "source": [
    "training_net = NeuralNetwork()\n",
    "\n",
    "loss_function = nn.CrossEntropyLoss()\n",
    "\n",
    "optimizer = torch.optim.SGD(training_net.parameters(), lr=0.001)"
   ]
  },
  {
   "cell_type": "markdown",
   "metadata": {},
   "source": [
    "#### Inital Model: Training and Validation"
   ]
  },
  {
   "cell_type": "code",
   "execution_count": null,
   "metadata": {
    "colab": {
     "base_uri": "https://localhost:8080/"
    },
    "execution": {
     "iopub.execute_input": "2025-03-05T12:55:18.345469Z",
     "iopub.status.busy": "2025-03-05T12:55:18.345271Z",
     "iopub.status.idle": "2025-03-05T13:06:14.520847Z",
     "shell.execute_reply": "2025-03-05T13:06:14.520004Z",
     "shell.execute_reply.started": "2025-03-05T12:55:18.345452Z"
    },
    "id": "rhndP4tTnaOm",
    "outputId": "385dd922-7f0a-4d6a-cf82-6e01f98b118b",
    "trusted": true
   },
   "outputs": [],
   "source": [
    "num_epochs = 50\n",
    "\n",
    "# Device configuration\n",
    "device = torch.device('cuda' if torch.cuda.is_available() else 'cpu')\n",
    "training_net.to(device)\n",
    "\n",
    "# Track loss and accuracy\n",
    "epoch_losses = []\n",
    "epoch_accuracies = []\n",
    "val_losses = []\n",
    "val_accuracies = []\n",
    "\n",
    "for epoch in range(num_epochs):\n",
    "    # Training\n",
    "    training_net.train()\n",
    "    train_loop = tqdm(enumerate(train_loader), total=len(train_loader), leave=False)\n",
    "\n",
    "    running_loss = 0.0\n",
    "    correct_predictions = 0\n",
    "    total_samples = 0\n",
    "\n",
    "    for i, (inputs, labels) in train_loop:\n",
    "        inputs, labels = inputs.to(device), labels.to(device)\n",
    "\n",
    "        optimizer.zero_grad()\n",
    "\n",
    "        outputs = training_net(inputs)\n",
    "        loss = loss_function(outputs, labels)\n",
    "        loss.backward()\n",
    "        optimizer.step()\n",
    "\n",
    "        running_loss += loss.item()\n",
    "\n",
    "        _, predicted = torch.max(outputs, 1)\n",
    "        correct_predictions += (predicted == labels).sum().item()\n",
    "        total_samples += labels.size(0)\n",
    "\n",
    "        train_loop.set_description(f\"Epoch [{epoch+1}/{num_epochs}]\")\n",
    "        train_loop.set_postfix(loss=loss.item())\n",
    "\n",
    "    avg_train_loss = running_loss / len(train_loader)\n",
    "    train_accuracy = correct_predictions / total_samples\n",
    "    epoch_losses.append(avg_train_loss)\n",
    "    epoch_accuracies.append(train_accuracy)\n",
    "\n",
    "    # Validation\n",
    "    training_net.eval()\n",
    "    val_loss = 0.0\n",
    "    correct_val = 0\n",
    "    total_val = 0\n",
    "\n",
    "    with torch.no_grad():\n",
    "        for inputs, labels in test_loader:  # Assuming you have a `val_loader`\n",
    "            inputs, labels = inputs.to(device), labels.to(device)\n",
    "\n",
    "            outputs = training_net(inputs)\n",
    "            loss = loss_function(outputs, labels)\n",
    "            val_loss += loss.item()\n",
    "\n",
    "            _, predicted = torch.max(outputs, 1)\n",
    "            correct_val += (predicted == labels).sum().item()\n",
    "            total_val += labels.size(0)\n",
    "\n",
    "    avg_val_loss = val_loss / len(test_loader)\n",
    "    val_accuracy = correct_val / total_val\n",
    "    val_losses.append(avg_val_loss)\n",
    "    val_accuracies.append(val_accuracy)\n",
    "\n",
    "    print(f\"Epoch [{epoch+1}/{num_epochs}] \"\n",
    "          f\"Train Loss: {avg_train_loss:.6f} | Train Acc: {train_accuracy*100:.2f}% | \"\n",
    "          f\"Val Loss: {avg_val_loss:.6f} | Val Acc: {val_accuracy*100:.2f}%\")\n",
    "\n",
    "train_loop.close()\n"
   ]
  },
  {
   "cell_type": "code",
   "execution_count": null,
   "metadata": {
    "execution": {
     "iopub.execute_input": "2025-03-05T13:06:14.522111Z",
     "iopub.status.busy": "2025-03-05T13:06:14.521801Z",
     "iopub.status.idle": "2025-03-05T13:06:18.960050Z",
     "shell.execute_reply": "2025-03-05T13:06:18.959316Z",
     "shell.execute_reply.started": "2025-03-05T13:06:14.522080Z"
    },
    "id": "1slL9YNQuuh0",
    "trusted": true
   },
   "outputs": [],
   "source": [
    "torch.save(training_net.state_dict(), 'trained_net.pth')"
   ]
  },
  {
   "cell_type": "code",
   "execution_count": null,
   "metadata": {
    "id": "GA1Bv0mh1FbN",
    "trusted": true
   },
   "outputs": [],
   "source": [
    "import plotly.graph_objects as go\n",
    "\n",
    "# --- Plot Training Loss ---\n",
    "fig_loss = go.Figure()\n",
    "fig_loss.add_trace(go.Scatter(\n",
    "    x=list(range(1, num_epochs + 1)),\n",
    "    y=epoch_losses,\n",
    "    mode='lines+markers',\n",
    "    name='Training Loss'\n",
    "))\n",
    "fig_loss.update_layout(\n",
    "    title='Training Loss Over Epochs',\n",
    "    xaxis_title='Epoch',\n",
    "    yaxis_title='Loss',\n",
    "    template='plotly_dark'\n",
    ")\n",
    "fig_loss.show()\n",
    "\n",
    "# --- Plot Training Accuracy ---\n",
    "fig_acc = go.Figure()\n",
    "fig_acc.add_trace(go.Scatter(\n",
    "    x=list(range(1, num_epochs + 1)),\n",
    "    y=[acc * 100 for acc in epoch_accuracies],  # convert to %\n",
    "    mode='lines+markers',\n",
    "    name='Training Accuracy'\n",
    "))\n",
    "fig_acc.update_layout(\n",
    "    title='Training Accuracy Over Epochs',\n",
    "    xaxis_title='Epoch',\n",
    "    yaxis_title='Accuracy (%)',\n",
    "    template='plotly_dark'\n",
    ")\n",
    "fig_acc.show()\n"
   ]
  },
  {
   "cell_type": "markdown",
   "metadata": {},
   "source": [
    "#### Inital Model: Testing"
   ]
  },
  {
   "cell_type": "code",
   "execution_count": null,
   "metadata": {
    "colab": {
     "base_uri": "https://localhost:8080/"
    },
    "execution": {
     "iopub.execute_input": "2025-03-05T13:06:18.961192Z",
     "iopub.status.busy": "2025-03-05T13:06:18.960901Z",
     "iopub.status.idle": "2025-03-05T13:06:43.401978Z",
     "shell.execute_reply": "2025-03-05T13:06:43.401156Z",
     "shell.execute_reply.started": "2025-03-05T13:06:18.961161Z"
    },
    "id": "QjWS-t-J1FbN",
    "outputId": "dcaea471-5274-46ea-f108-c67d0bf81a78",
    "trusted": true
   },
   "outputs": [],
   "source": [
    "test_net = NeuralNetwork()\n",
    "\n",
    "test_net.load_state_dict(torch.load('trained_net.pth'))\n",
    "\n",
    "device = torch.device(\"cuda\" if torch.cuda.is_available() else \"cpu\")\n",
    "test_net.to(device)\n",
    "\n",
    "test_net.eval()\n",
    "\n",
    "correct = 0\n",
    "total = 0\n",
    "\n",
    "with torch.no_grad():\n",
    "    for images, labels in tqdm(test_loader, desc=\"Testing\"):\n",
    "        images, labels = images.to(device), labels.to(device)\n",
    "\n",
    "        outputs = test_net(images)\n",
    "        _, predicted = torch.max(outputs.data, 1)\n",
    "        total += labels.size(0)\n",
    "\n",
    "        correct += (predicted == labels).sum().item()\n",
    "\n",
    "accuracy = 100 * correct / total\n",
    "print(f'Accuracy of the network on the test images: {accuracy:.2f}%')\n"
   ]
  },
  {
   "cell_type": "markdown",
   "metadata": {},
   "source": [
    "### 4.2 Nat's Model"
   ]
  },
  {
   "cell_type": "code",
   "execution_count": null,
   "metadata": {},
   "outputs": [],
   "source": [
    "class BNNeuralNetwork(nn.Module):\n",
    "    def __init__(self):\n",
    "        super().__init__()\n",
    "        \n",
    "        self.conv1 = nn.Sequential(\n",
    "            nn.Conv2d(3, 32, 3, padding=1),\n",
    "            nn.BatchNorm2d(32),\n",
    "            nn.ReLU()\n",
    "        )\n",
    "        self.pool = nn.MaxPool2d(2, 2)\n",
    "\n",
    "        self.conv2 = nn.Sequential(\n",
    "            nn.Conv2d(32, 64, 3, padding=1),\n",
    "            nn.BatchNorm2d(64),\n",
    "            nn.ReLU()\n",
    "        )\n",
    "        self.conv3 = nn.Sequential(\n",
    "            nn.Conv2d(64, 128, 3, padding=1),\n",
    "            nn.BatchNorm2d(128),\n",
    "            nn.ReLU()\n",
    "        )\n",
    "        self.conv4 = nn.Sequential(\n",
    "            nn.Conv2d(128, 256, 3, padding=1),\n",
    "            nn.BatchNorm2d(256),\n",
    "            nn.ReLU()\n",
    "        )\n",
    "\n",
    "        self.global_avg_pool = nn.AdaptiveAvgPool2d((1, 1))  # Reduces to (batch_size, channels, 1, 1)\n",
    "        self.fc1 = nn.Linear(256, 128)\n",
    "        self.fc2 = nn.Linear(128, 4)\n",
    "\n",
    "    def forward(self, x):\n",
    "        x = self.pool(self.conv1(x))\n",
    "        x = self.pool(self.conv2(x))\n",
    "        x = self.pool(self.conv3(x))\n",
    "        x = self.pool(self.conv4(x))\n",
    "\n",
    "        x = self.global_avg_pool(x)\n",
    "        x = torch.flatten(x, 1)\n",
    "        \n",
    "        x = F.relu(self.fc1(x))\n",
    "        x = self.fc2(x)\n",
    "        \n",
    "        return x"
   ]
  },
  {
   "cell_type": "markdown",
   "metadata": {},
   "source": [
    "### 4.3 VGG16 Model"
   ]
  },
  {
   "cell_type": "code",
   "execution_count": null,
   "metadata": {
    "execution": {
     "iopub.execute_input": "2025-03-04T23:03:20.727014Z",
     "iopub.status.busy": "2025-03-04T23:03:20.726698Z",
     "iopub.status.idle": "2025-03-04T23:03:20.740114Z",
     "shell.execute_reply": "2025-03-04T23:03:20.739217Z",
     "shell.execute_reply.started": "2025-03-04T23:03:20.726992Z"
    },
    "trusted": true
   },
   "outputs": [],
   "source": [
    "import torch.nn as nn\n",
    "import torch.nn.functional as F\n",
    "\n",
    "class VGG16(nn.Module):\n",
    "    def __init__(self, num_classes=4):\n",
    "        super(VGG16, self).__init__()\n",
    "        self.layer1 = nn.Sequential(\n",
    "            nn.Conv2d(3, 64, kernel_size=3, stride=1, padding=1),\n",
    "            nn.BatchNorm2d(64),\n",
    "            nn.ReLU())\n",
    "        self.layer2 = nn.Sequential(\n",
    "            nn.Conv2d(64, 64, kernel_size=3, stride=1, padding=1),\n",
    "            nn.BatchNorm2d(64),\n",
    "            nn.ReLU(), \n",
    "            nn.MaxPool2d(kernel_size = 2, stride = 2))\n",
    "        self.layer3 = nn.Sequential(\n",
    "            nn.Conv2d(64, 128, kernel_size=3, stride=1, padding=1),\n",
    "            nn.BatchNorm2d(128),\n",
    "            nn.ReLU())\n",
    "        self.layer4 = nn.Sequential(\n",
    "            nn.Conv2d(128, 128, kernel_size=3, stride=1, padding=1),\n",
    "            nn.BatchNorm2d(128),\n",
    "            nn.ReLU(),\n",
    "            nn.MaxPool2d(kernel_size = 2, stride = 2))\n",
    "        self.layer5 = nn.Sequential(\n",
    "            nn.Conv2d(128, 256, kernel_size=3, stride=1, padding=1),\n",
    "            nn.BatchNorm2d(256),\n",
    "            nn.ReLU())\n",
    "        self.layer6 = nn.Sequential(\n",
    "            nn.Conv2d(256, 256, kernel_size=3, stride=1, padding=1),\n",
    "            nn.BatchNorm2d(256),\n",
    "            nn.ReLU())\n",
    "        self.layer7 = nn.Sequential(\n",
    "            nn.Conv2d(256, 256, kernel_size=3, stride=1, padding=1),\n",
    "            nn.BatchNorm2d(256),\n",
    "            nn.ReLU(),\n",
    "            nn.MaxPool2d(kernel_size = 2, stride = 2))\n",
    "        self.layer8 = nn.Sequential(\n",
    "            nn.Conv2d(256, 512, kernel_size=3, stride=1, padding=1),\n",
    "            nn.BatchNorm2d(512),\n",
    "            nn.ReLU())\n",
    "        self.layer9 = nn.Sequential(\n",
    "            nn.Conv2d(512, 512, kernel_size=3, stride=1, padding=1),\n",
    "            nn.BatchNorm2d(512),\n",
    "            nn.ReLU())\n",
    "        self.layer10 = nn.Sequential(\n",
    "            nn.Conv2d(512, 512, kernel_size=3, stride=1, padding=1),\n",
    "            nn.BatchNorm2d(512),\n",
    "            nn.ReLU(),\n",
    "            nn.MaxPool2d(kernel_size = 2, stride = 2))\n",
    "        self.layer11 = nn.Sequential(\n",
    "            nn.Conv2d(512, 512, kernel_size=3, stride=1, padding=1),\n",
    "            nn.BatchNorm2d(512),\n",
    "            nn.ReLU())\n",
    "        self.layer12 = nn.Sequential(\n",
    "            nn.Conv2d(512, 512, kernel_size=3, stride=1, padding=1),\n",
    "            nn.BatchNorm2d(512),\n",
    "            nn.ReLU())\n",
    "        self.layer13 = nn.Sequential(\n",
    "            nn.Conv2d(512, 512, kernel_size=3, stride=1, padding=1),\n",
    "            nn.BatchNorm2d(512),\n",
    "            nn.ReLU(),\n",
    "            nn.MaxPool2d(kernel_size = 2, stride = 2))\n",
    "        \n",
    "        self.global_avg_pool = nn.AdaptiveAvgPool2d((1, 1))\n",
    "\n",
    "        self.classifier = nn.Sequential(\n",
    "            nn.Flatten(),\n",
    "            nn.Linear(512, 128),\n",
    "            nn.ReLU(),\n",
    "            nn.Dropout(0.3),\n",
    "            nn.Linear(128, num_classes)\n",
    "        )\n",
    "        \n",
    "    def forward(self, x):\n",
    "        out = self.layer1(x)\n",
    "        out = self.layer2(out)\n",
    "        out = self.layer3(out)\n",
    "        out = self.layer4(out)\n",
    "        out = self.layer5(out)\n",
    "        out = self.layer6(out)\n",
    "        out = self.layer7(out)\n",
    "        out = self.layer8(out)\n",
    "        out = self.layer9(out)\n",
    "        out = self.layer10(out)\n",
    "        out = self.layer11(out)\n",
    "        out = self.layer12(out)\n",
    "        out = self.layer13(out)\n",
    "        out = self.global_avg_pool(out)\n",
    "        out = self.classifier(out)\n",
    "        return out"
   ]
  },
  {
   "cell_type": "code",
   "execution_count": null,
   "metadata": {
    "execution": {
     "iopub.execute_input": "2025-03-04T23:03:20.741580Z",
     "iopub.status.busy": "2025-03-04T23:03:20.741328Z",
     "iopub.status.idle": "2025-03-04T23:03:23.269325Z",
     "shell.execute_reply": "2025-03-04T23:03:23.268401Z",
     "shell.execute_reply.started": "2025-03-04T23:03:20.741549Z"
    },
    "trusted": true
   },
   "outputs": [],
   "source": [
    "num_classes = 4\n",
    "num_epochs = 30\n",
    "batch_size = 32\n",
    "learning_rate = 0.0001\n",
    "device = torch.device(\"cuda\" if torch.cuda.is_available() else \"cpu\")\n",
    "\n",
    "model = VGG16(num_classes).to(device)\n",
    "\n",
    "# Loss and optimizer\n",
    "criterion = nn.CrossEntropyLoss()\n",
    "optimizer = torch.optim.SGD(model.parameters(), lr=learning_rate, weight_decay = 0.0001, momentum = 0.9)  "
   ]
  },
  {
   "cell_type": "markdown",
   "metadata": {},
   "source": [
    "#### VGG16: Training and Validation"
   ]
  },
  {
   "cell_type": "code",
   "execution_count": null,
   "metadata": {
    "collapsed": true,
    "execution": {
     "iopub.execute_input": "2025-03-04T23:03:23.271510Z",
     "iopub.status.busy": "2025-03-04T23:03:23.270953Z",
     "iopub.status.idle": "2025-03-05T00:09:48.202673Z",
     "shell.execute_reply": "2025-03-05T00:09:48.201864Z",
     "shell.execute_reply.started": "2025-03-04T23:03:23.271476Z"
    },
    "jupyter": {
     "outputs_hidden": true,
     "source_hidden": true
    },
    "trusted": true
   },
   "outputs": [],
   "source": [
    "torch.cuda.empty_cache()\n",
    "\n",
    "# Tracking lists\n",
    "train_losses = []\n",
    "val_losses = []\n",
    "train_accuracies = []\n",
    "val_accuracies = []\n",
    "\n",
    "total_step = len(train_loader)\n",
    "\n",
    "# Training loop\n",
    "for epoch in range(num_epochs):\n",
    "    running_loss = 0.0\n",
    "    correct_train = 0\n",
    "    total_train = 0\n",
    "\n",
    "    train_loop = tqdm(enumerate(train_loader), total=total_step, desc=f'Epoch {epoch+1}/{num_epochs}')\n",
    "    model.train()\n",
    "    \n",
    "    for i, (images, labels) in train_loop:\n",
    "        images = images.to(device)\n",
    "        labels = labels.to(device)\n",
    "\n",
    "        outputs = model(images)\n",
    "        loss = criterion(outputs, labels)\n",
    "\n",
    "        optimizer.zero_grad()\n",
    "        loss.backward()\n",
    "        optimizer.step()\n",
    "\n",
    "        running_loss += loss.item()\n",
    "\n",
    "        _, predicted = torch.max(outputs.data, 1)\n",
    "        total_train += labels.size(0)\n",
    "        correct_train += (predicted == labels).sum().item()\n",
    "\n",
    "        train_loop.set_postfix(loss=loss.item())\n",
    "    \n",
    "    avg_train_loss = running_loss / total_step\n",
    "    train_losses.append(avg_train_loss)\n",
    "\n",
    "    train_accuracy = 100 * correct_train / total_train\n",
    "    train_accuracies.append(train_accuracy)\n",
    "\n",
    "    # Validation\n",
    "    model.eval()\n",
    "    with torch.no_grad():\n",
    "        val_loss = 0.0\n",
    "        correct_val = 0\n",
    "        total_val = 0\n",
    "        validation_loop = tqdm(test_loader, desc='Validating')\n",
    "        for images, labels in validation_loop:\n",
    "            images = images.to(device)\n",
    "            labels = labels.to(device)\n",
    "\n",
    "            outputs = model(images)\n",
    "            loss = criterion(outputs, labels)\n",
    "            val_loss += loss.item()\n",
    "\n",
    "            _, predicted = torch.max(outputs.data, 1)\n",
    "            total_val += labels.size(0)\n",
    "            correct_val += (predicted == labels).sum().item()\n",
    "\n",
    "            del images, labels, outputs\n",
    "\n",
    "    avg_val_loss = val_loss / len(test_loader)\n",
    "    val_losses.append(avg_val_loss)\n",
    "\n",
    "    val_accuracy = 100 * correct_val / total_val\n",
    "    val_accuracies.append(val_accuracy)\n",
    "\n",
    "    print(f'Epoch {epoch+1}: Train Acc: {train_accuracy:.2f}%, Val Acc: {val_accuracy:.2f}%, Val Loss: {avg_val_loss:.4f}')"
   ]
  },
  {
   "cell_type": "code",
   "execution_count": null,
   "metadata": {
    "execution": {
     "iopub.execute_input": "2025-03-05T00:16:19.570944Z",
     "iopub.status.busy": "2025-03-05T00:16:19.570585Z",
     "iopub.status.idle": "2025-03-05T00:16:21.481043Z",
     "shell.execute_reply": "2025-03-05T00:16:21.480085Z",
     "shell.execute_reply.started": "2025-03-05T00:16:19.570914Z"
    },
    "trusted": true
   },
   "outputs": [],
   "source": [
    "torch.save(model.state_dict(), 'vgg16_model.pth')"
   ]
  },
  {
   "cell_type": "code",
   "execution_count": null,
   "metadata": {},
   "outputs": [],
   "source": [
    "# Plot Losses\n",
    "fig_loss = go.Figure()\n",
    "fig_loss.add_trace(go.Scatter(x=list(range(1, num_epochs + 1)), y=train_losses, mode='lines+markers', name='Training Loss'))\n",
    "fig_loss.add_trace(go.Scatter(x=list(range(1, num_epochs + 1)), y=val_losses, mode='lines+markers', name='Validation Loss'))\n",
    "fig_loss.update_layout(\n",
    "    title='Training & Validation Loss Over Epochs',\n",
    "    xaxis_title='Epoch',\n",
    "    yaxis_title='Loss',\n",
    "    template='plotly_dark'\n",
    ")\n",
    "fig_loss.show()\n",
    "\n",
    "# Plot Accuracies\n",
    "fig_acc = go.Figure()\n",
    "fig_acc.add_trace(go.Scatter(x=list(range(1, num_epochs + 1)), y=train_accuracies, mode='lines+markers', name='Training Accuracy'))\n",
    "fig_acc.add_trace(go.Scatter(x=list(range(1, num_epochs + 1)), y=val_accuracies, mode='lines+markers', name='Validation Accuracy'))\n",
    "fig_acc.update_layout(\n",
    "    title='Training & Validation Accuracy Over Epochs',\n",
    "    xaxis_title='Epoch',\n",
    "    yaxis_title='Accuracy (%)',\n",
    "    template='plotly_dark'\n",
    ")\n",
    "fig_acc.show()\n"
   ]
  }
 ],
 "metadata": {
  "accelerator": "GPU",
  "colab": {
   "gpuType": "T4",
   "include_colab_link": true,
   "provenance": []
  },
  "kaggle": {
   "accelerator": "gpu",
   "dataSources": [
    {
     "datasetId": 1263004,
     "sourceId": 2105207,
     "sourceType": "datasetVersion"
    }
   ],
   "dockerImageVersionId": 30919,
   "isGpuEnabled": true,
   "isInternetEnabled": true,
   "language": "python",
   "sourceType": "notebook"
  },
  "kernelspec": {
   "display_name": "MLP",
   "language": "python",
   "name": "python3"
  },
  "language_info": {
   "codemirror_mode": {
    "name": "ipython",
    "version": 3
   },
   "file_extension": ".py",
   "mimetype": "text/x-python",
   "name": "python",
   "nbconvert_exporter": "python",
   "pygments_lexer": "ipython3",
   "version": "3.12.9"
  }
 },
 "nbformat": 4,
 "nbformat_minor": 4
}
